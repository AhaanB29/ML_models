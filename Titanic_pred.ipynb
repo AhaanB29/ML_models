{
  "nbformat": 4,
  "nbformat_minor": 0,
  "metadata": {
    "colab": {
      "provenance": [],
      "authorship_tag": "ABX9TyN2dWBWTSHsF+YjobQ6Bt2m",
      "include_colab_link": true
    },
    "kernelspec": {
      "name": "python3",
      "display_name": "Python 3"
    },
    "language_info": {
      "name": "python"
    }
  },
  "cells": [
    {
      "cell_type": "markdown",
      "metadata": {
        "id": "view-in-github",
        "colab_type": "text"
      },
      "source": [
        "<a href=\"https://colab.research.google.com/github/AhaanB29/ML_models/blob/main/Titanic_pred.ipynb\" target=\"_parent\"><img src=\"https://colab.research.google.com/assets/colab-badge.svg\" alt=\"Open In Colab\"/></a>"
      ]
    },
    {
      "cell_type": "markdown",
      "source": [
        "# Titanic - Who all survived?\n",
        "\n",
        "\n",
        "---\n",
        "\n"
      ],
      "metadata": {
        "id": "gIZHffOdFOaO"
      }
    },
    {
      "cell_type": "markdown",
      "source": [
        "The sinking of the Titanic is one of the most infamous shipwrecks in history.\n",
        "\n",
        "On April 15, 1912, during her maiden voyage, the widely considered “unsinkable” RMS Titanic sank after colliding with an iceberg. Unfortunately, there weren’t enough lifeboats for everyone onboard, resulting in the death of 1502 out of 2224 passengers and crew.\n",
        "\n",
        "While there was some element of luck involved in surviving, it seems some groups of people were more likely to survive than others.\n",
        "\n",
        "In this challenge, we ask you to build a predictive model that answers the question: “what sorts of people were more likely to survive?” using passenger data (ie name, age, gender, socio-economic class, etc)."
      ],
      "metadata": {
        "id": "Z9IkmZNuFyZv"
      }
    },
    {
      "cell_type": "markdown",
      "source": [
        "# Importing Libraries\n",
        "\n",
        "---\n",
        "\n"
      ],
      "metadata": {
        "id": "Nk1sqMp0Gz7I"
      }
    },
    {
      "cell_type": "code",
      "source": [
        "import numpy as np\n",
        "import matplotlib.pyplot as plt\n",
        "import pandas as pd"
      ],
      "metadata": {
        "id": "IM_1Tw9hG5BW"
      },
      "execution_count": 369,
      "outputs": []
    },
    {
      "cell_type": "markdown",
      "source": [
        "# Pre-Processing and Importing the Dataset\n",
        "\n",
        "---\n",
        "\n"
      ],
      "metadata": {
        "id": "BPq2axZ5F44m"
      }
    },
    {
      "cell_type": "code",
      "source": [
        "dataset = pd.read_csv('train.csv')\n",
        "dataset = dataset.drop([\"Name\",\"Ticket\",\"Cabin\"],axis=1)\n",
        "X = dataset.iloc[:, 2:].values\n",
        "y = dataset.iloc[:, 1].values\n"
      ],
      "metadata": {
        "id": "fb5EaefaHWVv"
      },
      "execution_count": 370,
      "outputs": []
    },
    {
      "cell_type": "code",
      "source": [
        "datafram = pd.DataFrame(X)\n",
        "print(datafram)"
      ],
      "metadata": {
        "colab": {
          "base_uri": "https://localhost:8080/"
        },
        "id": "psJTskyJHhYx",
        "outputId": "1c89e400-28f2-40f2-e871-714e41c0b5d8"
      },
      "execution_count": 371,
      "outputs": [
        {
          "output_type": "stream",
          "name": "stdout",
          "text": [
            "     0       1     2  3  4        5  6\n",
            "0    3    male  22.0  1  0     7.25  S\n",
            "1    1  female  38.0  1  0  71.2833  C\n",
            "2    3  female  26.0  0  0    7.925  S\n",
            "3    1  female  35.0  1  0     53.1  S\n",
            "4    3    male  35.0  0  0     8.05  S\n",
            "..  ..     ...   ... .. ..      ... ..\n",
            "886  2    male  27.0  0  0     13.0  S\n",
            "887  1  female  19.0  0  0     30.0  S\n",
            "888  3  female   NaN  1  2    23.45  S\n",
            "889  1    male  26.0  0  0     30.0  C\n",
            "890  3    male  32.0  0  0     7.75  Q\n",
            "\n",
            "[891 rows x 7 columns]\n"
          ]
        }
      ]
    },
    {
      "cell_type": "code",
      "source": [
        "dataset.isnull().sum()"
      ],
      "metadata": {
        "colab": {
          "base_uri": "https://localhost:8080/"
        },
        "id": "o9PFE0IZIcDB",
        "outputId": "7e69f8ce-b65d-4db4-89e8-8598456cae71"
      },
      "execution_count": 372,
      "outputs": [
        {
          "output_type": "execute_result",
          "data": {
            "text/plain": [
              "PassengerId      0\n",
              "Survived         0\n",
              "Pclass           0\n",
              "Sex              0\n",
              "Age            177\n",
              "SibSp            0\n",
              "Parch            0\n",
              "Fare             0\n",
              "Embarked         2\n",
              "dtype: int64"
            ]
          },
          "metadata": {},
          "execution_count": 372
        }
      ]
    },
    {
      "cell_type": "code",
      "source": [
        "from sklearn.impute import SimpleImputer\n",
        "imputer = SimpleImputer(missing_values=np.nan, strategy='mean')\n",
        "imputer.fit(X[:,2:3])\n",
        "X[:,2:3] = imputer.transform(X[:, 2:3])\n",
        "imputer2 = SimpleImputer(missing_values=np.nan, strategy='most_frequent')\n",
        "imputer2.fit(X[:,6:])\n",
        "X[:,6:] = imputer2.transform(X[:,6:])"
      ],
      "metadata": {
        "id": "e9MTTSizJT24"
      },
      "execution_count": 373,
      "outputs": []
    },
    {
      "cell_type": "code",
      "source": [
        "pd.DataFrame(X).isnull().sum()"
      ],
      "metadata": {
        "colab": {
          "base_uri": "https://localhost:8080/"
        },
        "id": "qu4z4wrKTTfd",
        "outputId": "e485d2d6-9f41-45ee-c19b-7e6a106270c4"
      },
      "execution_count": 374,
      "outputs": [
        {
          "output_type": "execute_result",
          "data": {
            "text/plain": [
              "0    0\n",
              "1    0\n",
              "2    0\n",
              "3    0\n",
              "4    0\n",
              "5    0\n",
              "6    0\n",
              "dtype: int64"
            ]
          },
          "metadata": {},
          "execution_count": 374
        }
      ]
    },
    {
      "cell_type": "code",
      "source": [
        "print(pd.DataFrame(X))"
      ],
      "metadata": {
        "colab": {
          "base_uri": "https://localhost:8080/"
        },
        "id": "IKKEPtT6Y59p",
        "outputId": "4b03e456-0b4b-4d74-e7d7-a8498e16be5f"
      },
      "execution_count": 375,
      "outputs": [
        {
          "output_type": "stream",
          "name": "stdout",
          "text": [
            "     0       1          2  3  4        5  6\n",
            "0    3    male       22.0  1  0     7.25  S\n",
            "1    1  female       38.0  1  0  71.2833  C\n",
            "2    3  female       26.0  0  0    7.925  S\n",
            "3    1  female       35.0  1  0     53.1  S\n",
            "4    3    male       35.0  0  0     8.05  S\n",
            "..  ..     ...        ... .. ..      ... ..\n",
            "886  2    male       27.0  0  0     13.0  S\n",
            "887  1  female       19.0  0  0     30.0  S\n",
            "888  3  female  29.699118  1  2    23.45  S\n",
            "889  1    male       26.0  0  0     30.0  C\n",
            "890  3    male       32.0  0  0     7.75  Q\n",
            "\n",
            "[891 rows x 7 columns]\n"
          ]
        }
      ]
    },
    {
      "cell_type": "markdown",
      "source": [
        "We have completed with handling of missing data and removal of non contributing features.\n",
        "\n",
        "The next step would be to handle categorical data that are the fields Gender and Embarked.\n",
        "which will be implemented using One-Hotencoding\n",
        "\n"
      ],
      "metadata": {
        "id": "7bd1VGpEZ2rk"
      }
    },
    {
      "cell_type": "code",
      "source": [
        "from sklearn import preprocessing\n",
        "label = preprocessing.LabelEncoder()\n",
        "X[:,1] = np.array(label.fit_transform(X[:,1]))\n",
        "X[:,6] = np.array(label.fit_transform(X[:,6]))\n",
        "print(pd.DataFrame(X))"
      ],
      "metadata": {
        "colab": {
          "base_uri": "https://localhost:8080/"
        },
        "id": "5TskdcPHa8Mm",
        "outputId": "965f3830-af47-452b-9dd1-2e1b20947569"
      },
      "execution_count": 376,
      "outputs": [
        {
          "output_type": "stream",
          "name": "stdout",
          "text": [
            "     0  1          2  3  4        5  6\n",
            "0    3  1       22.0  1  0     7.25  2\n",
            "1    1  0       38.0  1  0  71.2833  0\n",
            "2    3  0       26.0  0  0    7.925  2\n",
            "3    1  0       35.0  1  0     53.1  2\n",
            "4    3  1       35.0  0  0     8.05  2\n",
            "..  .. ..        ... .. ..      ... ..\n",
            "886  2  1       27.0  0  0     13.0  2\n",
            "887  1  0       19.0  0  0     30.0  2\n",
            "888  3  0  29.699118  1  2    23.45  2\n",
            "889  1  1       26.0  0  0     30.0  0\n",
            "890  3  1       32.0  0  0     7.75  1\n",
            "\n",
            "[891 rows x 7 columns]\n"
          ]
        }
      ]
    },
    {
      "cell_type": "markdown",
      "source": [
        "**Splitting into test and training set**"
      ],
      "metadata": {
        "id": "knxPoKPOfUlr"
      }
    },
    {
      "cell_type": "code",
      "source": [
        "from sklearn.model_selection import train_test_split\n",
        "X_train, X_test, y_train, y_test = train_test_split(X, y, test_size = 0.2, random_state = 1)"
      ],
      "metadata": {
        "id": "6BoAZ8_OfZYT"
      },
      "execution_count": 377,
      "outputs": []
    },
    {
      "cell_type": "markdown",
      "source": [
        "**Scaling the features**\n",
        "---\n",
        "\n"
      ],
      "metadata": {
        "id": "t95cvB5leh-r"
      }
    },
    {
      "cell_type": "code",
      "source": [
        "from sklearn.preprocessing import StandardScaler\n",
        "sc = StandardScaler()\n",
        "X_train[:, 2:3] = sc.fit_transform(X_train[:,2:3])\n",
        "X_test[:,2:3] = sc.transform(X_test[:,2:3])\n",
        "sc2 = StandardScaler()\n",
        "X_train[:, 5:6] = sc2.fit_transform(X_train[:,5:6])\n",
        "X_test[:,5:6] = sc2.transform(X_test[:,5:6])\n",
        "print(X_train)"
      ],
      "metadata": {
        "colab": {
          "base_uri": "https://localhost:8080/"
        },
        "id": "wFqv4VDFeha-",
        "outputId": "16196cbc-e5f6-469f-ff13-5c1e24fd8c07"
      },
      "execution_count": 378,
      "outputs": [
        {
          "output_type": "stream",
          "name": "stdout",
          "text": [
            "[[3 1 -0.028104986699835386 ... 0 -0.18801432489146527 1]\n",
            " [1 0 -0.005412181761448325 ... 0 0.5396904377513654 0]\n",
            " [2 0 0.29627124654946124 ... 0 -0.463502926868237 2]\n",
            " ...\n",
            " [2 1 -0.6841998954609948 ... 0 0.8977348711346351 2]\n",
            " [3 0 -0.028104986699835386 ... 0 -0.5272434269334508 2]\n",
            " [3 1 -0.6841998954609948 ... 0 -0.5164399523461265 2]]\n"
          ]
        }
      ]
    },
    {
      "cell_type": "markdown",
      "source": [
        "# Building the model\n",
        "\n",
        "---\n",
        "\n"
      ],
      "metadata": {
        "id": "7FuHG7ONh2Gw"
      }
    },
    {
      "cell_type": "code",
      "source": [
        "from sklearn.linear_model import LogisticRegression\n",
        "classifier1 = LogisticRegression(random_state = 0)\n",
        "classifier1.fit(X_train, y_train)"
      ],
      "metadata": {
        "colab": {
          "base_uri": "https://localhost:8080/"
        },
        "id": "AchLYwXyh7nx",
        "outputId": "ee7c1894-3006-4487-9bc6-fd341184eed8"
      },
      "execution_count": 379,
      "outputs": [
        {
          "output_type": "execute_result",
          "data": {
            "text/plain": [
              "LogisticRegression(random_state=0)"
            ]
          },
          "metadata": {},
          "execution_count": 379
        }
      ]
    },
    {
      "cell_type": "code",
      "source": [
        "y_pred1 = classifier1.predict(X_test)"
      ],
      "metadata": {
        "id": "wUsGjKKIi63W"
      },
      "execution_count": 380,
      "outputs": []
    },
    {
      "cell_type": "code",
      "source": [
        "from sklearn.neighbors import KNeighborsClassifier\n",
        "classifier2 = KNeighborsClassifier(n_neighbors = 5, metric = 'minkowski', p = 2)\n",
        "classifier2.fit(X_train, y_train)"
      ],
      "metadata": {
        "colab": {
          "base_uri": "https://localhost:8080/"
        },
        "id": "zNcQYVh6j59U",
        "outputId": "4441e644-af49-43da-e272-4abc6d763bdb"
      },
      "execution_count": 381,
      "outputs": [
        {
          "output_type": "execute_result",
          "data": {
            "text/plain": [
              "KNeighborsClassifier()"
            ]
          },
          "metadata": {},
          "execution_count": 381
        }
      ]
    },
    {
      "cell_type": "code",
      "source": [
        "y_pred2 = classifier2.predict(X_test)"
      ],
      "metadata": {
        "id": "Se4T7RLskEPg"
      },
      "execution_count": 382,
      "outputs": []
    },
    {
      "cell_type": "code",
      "source": [
        "from sklearn.ensemble import RandomForestClassifier\n",
        "classifier3 = RandomForestClassifier(n_estimators = 10, criterion = 'entropy', random_state = 0)\n",
        "classifier3.fit(X_train, y_train)"
      ],
      "metadata": {
        "colab": {
          "base_uri": "https://localhost:8080/"
        },
        "id": "YTXTnFzYkusm",
        "outputId": "5b0baab6-588a-44ca-ade3-b086a937b714"
      },
      "execution_count": 383,
      "outputs": [
        {
          "output_type": "execute_result",
          "data": {
            "text/plain": [
              "RandomForestClassifier(criterion='entropy', n_estimators=10, random_state=0)"
            ]
          },
          "metadata": {},
          "execution_count": 383
        }
      ]
    },
    {
      "cell_type": "code",
      "source": [
        "y_pred3= classifier3.predict(X_test)"
      ],
      "metadata": {
        "id": "oHCY-6xfkwtH"
      },
      "execution_count": 384,
      "outputs": []
    },
    {
      "cell_type": "markdown",
      "source": [
        "# Analysing the predictions from the test set\n",
        "---\n",
        "\n"
      ],
      "metadata": {
        "id": "pgFR42VMjCuZ"
      }
    },
    {
      "cell_type": "code",
      "source": [
        "from sklearn.metrics import confusion_matrix, accuracy_score\n",
        "cm = confusion_matrix(y_test, y_pred1)\n",
        "print(cm)\n",
        "print(accuracy_score(y_test, y_pred1))\n",
        "cm = confusion_matrix(y_test, y_pred2)\n",
        "print(cm)\n",
        "print(accuracy_score(y_test, y_pred2))\n",
        "\n",
        "cm = confusion_matrix(y_test, y_pred3)\n",
        "print(cm)\n",
        "print(accuracy_score(y_test, y_pred3))"
      ],
      "metadata": {
        "colab": {
          "base_uri": "https://localhost:8080/"
        },
        "id": "VO9BuYZ6jH_H",
        "outputId": "736c9ecd-8f59-44e3-ff0a-c559598f1b58"
      },
      "execution_count": 385,
      "outputs": [
        {
          "output_type": "stream",
          "name": "stdout",
          "text": [
            "[[90 16]\n",
            " [20 53]]\n",
            "0.7988826815642458\n",
            "[[94 12]\n",
            " [32 41]]\n",
            "0.7541899441340782\n",
            "[[91 15]\n",
            " [30 43]]\n",
            "0.7486033519553073\n"
          ]
        }
      ]
    },
    {
      "cell_type": "markdown",
      "source": [
        "# Predicting values for the given set\n",
        "\n",
        "---\n",
        "\n"
      ],
      "metadata": {
        "id": "mIW43IKlmCkA"
      }
    },
    {
      "cell_type": "code",
      "source": [
        "dataset = pd.read_csv('test.csv')\n",
        "dataset = dataset.drop([\"Name\",\"Ticket\",\"Cabin\"],axis=1)\n",
        "X_=dataset.iloc[:, 1:].values\n",
        "pid = dataset.iloc[:,0:1].values"
      ],
      "metadata": {
        "id": "CFhinJKIofLk"
      },
      "execution_count": 386,
      "outputs": []
    },
    {
      "cell_type": "code",
      "source": [
        "dataset.isnull().sum()"
      ],
      "metadata": {
        "colab": {
          "base_uri": "https://localhost:8080/"
        },
        "id": "gHRarv7So1gq",
        "outputId": "b44ea3dd-e5c8-4d25-eb83-42358cee4185"
      },
      "execution_count": 387,
      "outputs": [
        {
          "output_type": "execute_result",
          "data": {
            "text/plain": [
              "PassengerId     0\n",
              "Pclass          0\n",
              "Sex             0\n",
              "Age            86\n",
              "SibSp           0\n",
              "Parch           0\n",
              "Fare            1\n",
              "Embarked        0\n",
              "dtype: int64"
            ]
          },
          "metadata": {},
          "execution_count": 387
        }
      ]
    },
    {
      "cell_type": "code",
      "source": [
        "print(pd.DataFrame(X_))"
      ],
      "metadata": {
        "colab": {
          "base_uri": "https://localhost:8080/"
        },
        "id": "65_AYsgCqQ6r",
        "outputId": "d8ce0e41-c34b-4012-fb0d-069c153f0d40"
      },
      "execution_count": 388,
      "outputs": [
        {
          "output_type": "stream",
          "name": "stdout",
          "text": [
            "     0       1     2  3  4        5  6\n",
            "0    3    male  34.5  0  0   7.8292  Q\n",
            "1    3  female  47.0  1  0      7.0  S\n",
            "2    2    male  62.0  0  0   9.6875  Q\n",
            "3    3    male  27.0  0  0   8.6625  S\n",
            "4    3  female  22.0  1  1  12.2875  S\n",
            "..  ..     ...   ... .. ..      ... ..\n",
            "413  3    male   NaN  0  0     8.05  S\n",
            "414  1  female  39.0  0  0    108.9  C\n",
            "415  3    male  38.5  0  0     7.25  S\n",
            "416  3    male   NaN  0  0     8.05  S\n",
            "417  3    male   NaN  1  1  22.3583  C\n",
            "\n",
            "[418 rows x 7 columns]\n"
          ]
        }
      ]
    },
    {
      "cell_type": "code",
      "source": [
        "imputer.fit(X_[:,2:3])\n",
        "X_[:,2:3] = imputer.transform(X_[:, 2:3])\n",
        "imputer.fit(X_[:,5:6])\n",
        "X_[:,5:6] = imputer.transform(X_[:, 5:6])\n",
        "imputer2.fit(X[:,6:])\n",
        "X_[:,6:] = imputer2.transform(X_[:,6:])"
      ],
      "metadata": {
        "id": "4IGPJfTqpdnb"
      },
      "execution_count": 389,
      "outputs": []
    },
    {
      "cell_type": "code",
      "source": [
        "print(pd.DataFrame(X_))\n",
        "X_[:,1] = np.array(label.fit_transform(X_[:,1]))\n",
        "X_[:,6] = np.array(label.fit_transform(X_[:,6]))"
      ],
      "metadata": {
        "colab": {
          "base_uri": "https://localhost:8080/"
        },
        "id": "uw4YiXzEqjt8",
        "outputId": "f19c7866-2be1-4979-96a4-e26964c41ce2"
      },
      "execution_count": 390,
      "outputs": [
        {
          "output_type": "stream",
          "name": "stdout",
          "text": [
            "     0       1         2  3  4        5  6\n",
            "0    3    male      34.5  0  0   7.8292  Q\n",
            "1    3  female      47.0  1  0      7.0  S\n",
            "2    2    male      62.0  0  0   9.6875  Q\n",
            "3    3    male      27.0  0  0   8.6625  S\n",
            "4    3  female      22.0  1  1  12.2875  S\n",
            "..  ..     ...       ... .. ..      ... ..\n",
            "413  3    male  30.27259  0  0     8.05  S\n",
            "414  1  female      39.0  0  0    108.9  C\n",
            "415  3    male      38.5  0  0     7.25  S\n",
            "416  3    male  30.27259  0  0     8.05  S\n",
            "417  3    male  30.27259  1  1  22.3583  C\n",
            "\n",
            "[418 rows x 7 columns]\n"
          ]
        }
      ]
    },
    {
      "cell_type": "code",
      "source": [
        "\n",
        "X_[:,1] = np.array(label.fit_transform(X_[:,1]))\n",
        "X_[:,6] = np.array(label.fit_transform(X_[:,6]))\n",
        "print(pd.DataFrame(X_))"
      ],
      "metadata": {
        "colab": {
          "base_uri": "https://localhost:8080/"
        },
        "id": "5mBuy4PxrDU4",
        "outputId": "c9327150-d90b-4d57-de37-67a0463abf75"
      },
      "execution_count": 391,
      "outputs": [
        {
          "output_type": "stream",
          "name": "stdout",
          "text": [
            "     0  1         2  3  4        5  6\n",
            "0    3  1      34.5  0  0   7.8292  1\n",
            "1    3  0      47.0  1  0      7.0  2\n",
            "2    2  1      62.0  0  0   9.6875  1\n",
            "3    3  1      27.0  0  0   8.6625  2\n",
            "4    3  0      22.0  1  1  12.2875  2\n",
            "..  .. ..       ... .. ..      ... ..\n",
            "413  3  1  30.27259  0  0     8.05  2\n",
            "414  1  0      39.0  0  0    108.9  0\n",
            "415  3  1      38.5  0  0     7.25  2\n",
            "416  3  1  30.27259  0  0     8.05  2\n",
            "417  3  1  30.27259  1  1  22.3583  0\n",
            "\n",
            "[418 rows x 7 columns]\n"
          ]
        }
      ]
    },
    {
      "cell_type": "code",
      "source": [
        "X_[:,2:3] = sc.transform(X_[:,2:3])\n",
        "X_[:,5:6] = sc2.transform(X_[:,5:6])\n"
      ],
      "metadata": {
        "id": "A17DKERErUUN"
      },
      "execution_count": 392,
      "outputs": []
    },
    {
      "cell_type": "code",
      "source": [
        "print(X_)"
      ],
      "metadata": {
        "colab": {
          "base_uri": "https://localhost:8080/"
        },
        "id": "iUH7J-2irw52",
        "outputId": "9f91fe54-7b1c-41ab-9a51-859136d65caa"
      },
      "execution_count": 393,
      "outputs": [
        {
          "output_type": "stream",
          "name": "stdout",
          "text": [
            "[[3 1 0.33398167508832494 ... 0 -0.5212107667238889 1]\n",
            " [3 0 1.2767423885599174 ... 0 -0.5391272489795077 2]\n",
            " [2 1 2.408055244725828 ... 0 -0.4810585730726391 1]\n",
            " ...\n",
            " [3 1 0.6356651033992345 ... 0 -0.5337255116858455 2]\n",
            " [3 1 0.015146816929920107 ... 0 -0.5164399523461265 2]\n",
            " [3 1 0.015146816929920107 ... 1 -0.2072812414704996 0]]\n"
          ]
        }
      ]
    },
    {
      "cell_type": "code",
      "source": [
        "final_prediction = classifier1.predict(X_)\n",
        "print(final_prediction)"
      ],
      "metadata": {
        "colab": {
          "base_uri": "https://localhost:8080/"
        },
        "id": "ls2Trn3Fr_4I",
        "outputId": "5111199d-e1c0-47b0-8885-cbdb89babf1b"
      },
      "execution_count": 394,
      "outputs": [
        {
          "output_type": "stream",
          "name": "stdout",
          "text": [
            "[0 0 0 0 1 0 1 0 1 0 0 0 1 0 1 1 0 0 1 1 0 0 1 1 1 0 1 0 0 0 0 0 0 0 1 0 1\n",
            " 1 0 0 0 0 0 1 1 0 0 0 1 1 0 0 1 1 0 0 0 0 0 1 0 0 0 1 1 1 1 0 1 1 1 0 1 1\n",
            " 1 1 0 1 0 1 0 0 0 0 0 0 1 1 1 0 1 0 1 0 1 0 1 0 1 0 1 0 0 0 1 0 0 0 0 0 0\n",
            " 1 1 1 1 0 0 1 1 1 1 0 1 0 0 1 0 0 0 0 0 0 1 0 0 0 0 0 1 0 0 1 0 0 0 0 0 0\n",
            " 0 0 1 0 0 1 0 0 1 1 0 1 1 0 1 0 0 1 0 0 1 1 0 0 0 0 0 1 1 0 1 1 0 0 1 0 1\n",
            " 0 1 0 0 0 0 0 0 0 0 0 1 1 0 1 1 0 0 1 0 1 1 0 1 0 0 0 0 0 0 0 1 0 1 0 1 0\n",
            " 1 0 1 1 0 1 0 0 0 1 0 0 0 0 0 0 1 1 1 1 0 0 0 0 1 0 1 1 1 0 1 0 0 0 0 0 1\n",
            " 0 0 0 1 1 0 0 0 0 1 0 0 0 1 1 0 1 0 0 0 0 1 0 1 1 1 0 0 0 0 0 0 1 0 0 0 0\n",
            " 1 0 0 0 0 0 0 0 1 1 0 0 0 0 0 0 0 1 1 1 0 0 0 0 0 0 0 0 1 0 1 0 0 0 1 1 0\n",
            " 1 0 0 0 0 0 0 0 0 0 1 0 1 0 1 0 1 1 0 0 0 1 0 1 0 0 0 0 1 1 0 1 1 0 1 1 0\n",
            " 0 1 0 0 1 1 0 0 0 0 0 0 1 1 0 1 0 0 0 0 1 1 0 0 0 1 0 1 0 0 1 0 1 1 0 0 0\n",
            " 0 1 1 1 1 1 0 1 0 0 0]\n"
          ]
        }
      ]
    },
    {
      "cell_type": "code",
      "source": [
        "arr = np.concatenate((pid.reshape(len(pid),1), final_prediction.reshape(len(pid),1)),1)"
      ],
      "metadata": {
        "id": "2DTntRapt3ZV"
      },
      "execution_count": 395,
      "outputs": []
    },
    {
      "cell_type": "markdown",
      "source": [
        "# Creating Submission File\n",
        "\n",
        "---\n",
        "\n"
      ],
      "metadata": {
        "id": "0tCb8y-tue-f"
      }
    },
    {
      "cell_type": "code",
      "source": [
        "import csv\n",
        "with open(\"Submission_LC.csv\",'w') as fw:\n",
        "  writer = csv.writer(fw)\n",
        "  writer.writerow([\"PassengerId\",\"Survived\"])\n",
        "  writer.writerows(arr)"
      ],
      "metadata": {
        "id": "rI-wUB1Xuiuz"
      },
      "execution_count": 397,
      "outputs": []
    }
  ]
}