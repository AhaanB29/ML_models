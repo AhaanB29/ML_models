{
  "nbformat": 4,
  "nbformat_minor": 0,
  "metadata": {
    "colab": {
      "provenance": []
    },
    "kernelspec": {
      "name": "python3",
      "display_name": "Python 3"
    },
    "language_info": {
      "name": "python"
    }
  },
  "cells": [
    {
      "cell_type": "code",
      "execution_count": 1,
      "metadata": {
        "id": "nmmoCvP8lOnc"
      },
      "outputs": [],
      "source": [
        "import sqlite3"
      ]
    },
    {
      "cell_type": "code",
      "source": [
        "connection = sqlite3.connect(\"latha.db\")"
      ],
      "metadata": {
        "id": "klV24SJLlUD6"
      },
      "execution_count": 2,
      "outputs": []
    },
    {
      "cell_type": "code",
      "source": [
        "# cursor\n",
        "crsr = connection.cursor()\n",
        " \n",
        "# print statement will execute if there\n",
        "# are no errors\n",
        "print(\"Connected to the database\")\n",
        " \n",
        "# close the connection\n",
        "connection.close()"
      ],
      "metadata": {
        "colab": {
          "base_uri": "https://localhost:8080/"
        },
        "id": "ueZCoFzilb03",
        "outputId": "032f78ae-32bd-41c8-f130-a189bd075de8"
      },
      "execution_count": 3,
      "outputs": [
        {
          "output_type": "stream",
          "name": "stdout",
          "text": [
            "Connected to the database\n"
          ]
        }
      ]
    },
    {
      "cell_type": "code",
      "source": [
        "# connecting to the database\n",
        "connection = sqlite3.connect(\"latha.db\")\n",
        " \n",
        "# cursor\n",
        "crsr = connection.cursor()\n",
        " \n",
        "# SQL command to create a table in the database\n",
        "sql_command = \"\"\"create table course1(ccode varchar(7), cname varchar(15), credits number(2));\"\"\"\n",
        " \n",
        "# execute the statement\n",
        "crsr.execute(sql_command)\n",
        " \n",
        "# close the connection\n",
        "connection.close()"
      ],
      "metadata": {
        "id": "Hd0-qmcTldQE"
      },
      "execution_count": 2,
      "outputs": []
    },
    {
      "cell_type": "code",
      "source": [
        "\n",
        "# Python code to demonstrate table creation and\n",
        "# insertions with SQL\n",
        " \n",
        "# importing module\n",
        "import sqlite3\n",
        " \n",
        "# connecting to the database\n",
        "connection = sqlite3.connect(\"latha.db\")\n",
        " \n",
        "# cursor\n",
        "crsr = connection.cursor()\n",
        " \n",
        "# SQL command to insert the data in the table\n",
        "sql_command = \"\"\"insert into course1 values(\"cse1002\",\"oops\", 3);\"\"\"\n",
        "crsr.execute(sql_command)\n",
        " \n",
        "# another SQL command to insert the data in the table\n",
        "sql_command = \"\"\"insert into course1 values(\"eng1901\",\"english\", 2);\"\"\"\n",
        "crsr.execute(sql_command)\n",
        " \n",
        "# To save the changes in the files. Never skip this.\n",
        "# If we skip this, nothing will be saved in the database.\n",
        "connection.commit()\n",
        " \n",
        "# close the connection\n",
        "connection.close()"
      ],
      "metadata": {
        "id": "8Bh6pfjqlwsG"
      },
      "execution_count": 3,
      "outputs": []
    },
    {
      "cell_type": "code",
      "source": [
        "import sqlite3\n",
        "connection = sqlite3.connect(\"latha.db\")\n",
        "crsr = connection.cursor()\n",
        "crsr.execute(\"SELECT * FROM course1;\").fetchall()"
      ],
      "metadata": {
        "colab": {
          "base_uri": "https://localhost:8080/"
        },
        "id": "K4MygGW_pt9J",
        "outputId": "5aebb32d-f488-4590-a4d3-7d0bb0fe0de8"
      },
      "execution_count": 4,
      "outputs": [
        {
          "output_type": "execute_result",
          "data": {
            "text/plain": [
              "[('cse1002', 'oops', 3), ('eng1901', 'english', 2)]"
            ]
          },
          "metadata": {},
          "execution_count": 4
        }
      ]
    }
  ]
}